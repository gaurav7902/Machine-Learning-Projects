{
 "cells": [
  {
   "cell_type": "code",
   "execution_count": 1,
   "id": "83be3165-d296-4e18-955d-cba858fa3b5d",
   "metadata": {},
   "outputs": [],
   "source": [
    "import numpy as np\n",
    "import pandas as pd"
   ]
  },
  {
   "cell_type": "code",
   "execution_count": 2,
   "id": "796c5689-8d5c-4503-a179-df05754d62dd",
   "metadata": {},
   "outputs": [],
   "source": [
    "class PolynomialRegression:\n",
    "    def __init__(self, degree=2, learning_rate=0.01, iterations=1000):\n",
    "        self.degree = degree\n",
    "        self.learning_rate = learning_rate\n",
    "        self.iterations = iterations\n",
    "        self.weights = None\n",
    "        self.bias = None\n",
    "        \n",
    "    def generate_polynomial_features(self, X):\n",
    "        n_samples = X.shape[0]\n",
    "        X_poly = np.zeros((n_samples, X.shape[1] * self.degree))\n",
    "        \n",
    "        for i in range(self.degree):\n",
    "            start_idx = i * X.shape[1]\n",
    "            end_idx = (i + 1) * X.shape[1]\n",
    "            X_poly[:, start_idx:end_idx] = X ** (i + 1)\n",
    "            \n",
    "        return X_poly\n",
    "    \n",
    "    def fit(self, X, y):\n",
    "        X_poly = self.generate_polynomial_features(X)\n",
    "        n_samples, n_features = X_poly.shape\n",
    "        \n",
    "        # Initialize weights and bias\n",
    "        self.weights = np.zeros(n_features)\n",
    "        self.bias = 0\n",
    "        \n",
    "        # Gradient descent\n",
    "        for _ in range(self.iterations):\n",
    "            y_pred = self._forward(X_poly)\n",
    "            \n",
    "            # Calculate gradients\n",
    "            dw = (1 / n_samples) * np.dot(X_poly.T, (y_pred - y))\n",
    "            db = (1 / n_samples) * np.sum(y_pred - y)\n",
    "            \n",
    "            # Update parameters\n",
    "            self.weights -= self.learning_rate * dw\n",
    "            self.bias -= self.learning_rate * db\n",
    "    \n",
    "    def _forward(self, X_poly):\n",
    "        return np.dot(X_poly, self.weights) + self.bias\n",
    "    \n",
    "    def predict(self, X):\n",
    "        X_poly = self.generate_polynomial_features(X)\n",
    "        return self._forward(X_poly)\n"
   ]
  },
  {
   "cell_type": "code",
   "execution_count": 4,
   "id": "c5b95f0e-7429-43c0-a350-379aee040240",
   "metadata": {},
   "outputs": [
    {
     "name": "stdout",
     "output_type": "stream",
     "text": [
      "Final Weights: [ 1.05076339e-09  9.25445824e-11  1.27424820e-09  6.76646542e-10\n",
      "  1.47567987e-10  3.03873771e-09 -1.58800427e-09  6.48535318e-10\n",
      " -3.35375177e-10 -1.99059206e-09]\n",
      "Final Bias: -6.210314788646989e-11\n",
      "Predictions for Test Data (First 5): [ 6.35199201e-09 -4.71657326e-09 -4.93454047e-09  6.88038755e-10\n",
      " -7.39057125e-09]\n"
     ]
    }
   ],
   "source": [
    "train_data = pd.read_csv('polynomial_regression_train.csv')\n",
    "test_data = pd.read_csv('polynomial_regression_test.csv')\n",
    "\n",
    "# Prepare training data\n",
    "X_train = train_data[['Feature_1', 'Feature_2', 'Feature_3', 'Feature_4', 'Feature_5']].values\n",
    "y_train = train_data['Target'].values\n",
    "\n",
    "# Prepare test data\n",
    "X_test = test_data[['Feature_1', 'Feature_2', 'Feature_3', 'Feature_4', 'Feature_5']].values\n",
    "\n",
    "# Train the model\n",
    "model = PolynomialRegression(2, 0.01, 1000)\n",
    "model.fit(X_train, y_train)\n",
    "\n",
    "# Predict on test data\n",
    "y_pred_test = model.predict(X_test)\n",
    "\n",
    "# Display results\n",
    "print(\"Final Weights:\", model.weights)\n",
    "print(\"Final Bias:\", model.bias)\n",
    "print(\"Predictions for Test Data (First 5):\", y_pred_test[:5])"
   ]
  },
  {
   "cell_type": "code",
   "execution_count": 5,
   "id": "b16bccf2-3206-4002-b4ea-917209ac4f98",
   "metadata": {},
   "outputs": [],
   "source": [
    "validate = model.predict(X_train)"
   ]
  },
  {
   "cell_type": "code",
   "execution_count": 6,
   "id": "857e369b-c80a-4ed2-ae90-740e7f5bce62",
   "metadata": {},
   "outputs": [
    {
     "data": {
      "text/plain": [
       "array([-2.19504598e-09, -2.12188721e-09,  3.36144067e-09, ...,\n",
       "        9.08227990e-10,  5.81291650e-09, -6.08509179e-09])"
      ]
     },
     "execution_count": 6,
     "metadata": {},
     "output_type": "execute_result"
    }
   ],
   "source": [
    "validate"
   ]
  },
  {
   "cell_type": "code",
   "execution_count": 7,
   "id": "cf182acf-bcd0-46c8-be1f-ba9d1b99dde3",
   "metadata": {},
   "outputs": [
    {
     "data": {
      "text/plain": [
       "array([ 8.16874285e-10, -5.08122456e-10,  4.56017046e-10, ...,\n",
       "       -1.09620443e-08,  1.96209742e-09,  5.00055158e-10])"
      ]
     },
     "execution_count": 7,
     "metadata": {},
     "output_type": "execute_result"
    }
   ],
   "source": [
    "y_train"
   ]
  },
  {
   "cell_type": "code",
   "execution_count": null,
   "id": "83da30ce-7ca9-4a5d-ad92-e001e999d33f",
   "metadata": {},
   "outputs": [],
   "source": [
    " "
   ]
  }
 ],
 "metadata": {
  "kernelspec": {
   "display_name": "Python 3 (ipykernel)",
   "language": "python",
   "name": "python3"
  },
  "language_info": {
   "codemirror_mode": {
    "name": "ipython",
    "version": 3
   },
   "file_extension": ".py",
   "mimetype": "text/x-python",
   "name": "python",
   "nbconvert_exporter": "python",
   "pygments_lexer": "ipython3",
   "version": "3.12.7"
  }
 },
 "nbformat": 4,
 "nbformat_minor": 5
}
