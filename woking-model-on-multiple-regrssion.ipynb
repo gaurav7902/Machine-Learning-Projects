{
 "cells": [
  {
   "cell_type": "code",
   "execution_count": 4,
   "id": "24e50f1e-245f-4e53-b270-d7b18e0b88b4",
   "metadata": {},
   "outputs": [],
   "source": [
    "import numpy as np\n",
    "import pandas as pd"
   ]
  },
  {
   "cell_type": "code",
   "execution_count": 5,
   "id": "e4d67e65-bec6-43f1-80ba-f720b3bbf7c7",
   "metadata": {},
   "outputs": [
    {
     "data": {
      "text/plain": [
       "(48000, 25)"
      ]
     },
     "execution_count": 5,
     "metadata": {},
     "output_type": "execute_result"
    }
   ],
   "source": [
    "    df = pd.read_csv(\"linear_regression_train.csv\")\n",
    "    \n",
    "    # Assuming the last column is the target (y), and the rest are features (X)\n",
    "    # X = df.iloc[:, 1:-1].values  # All columns except the last one\n",
    "    X = df.iloc[:, 1:-1].values\n",
    "    y = df.iloc[:, -1].values   # The last column\n",
    "    \n",
    "    # Add a column of ones to X for the intercept term (this will now be the \"bias\")\n",
    "    \n",
    "X.shape\n"
   ]
  },
  {
   "cell_type": "code",
   "execution_count": 6,
   "id": "3174a197-51ff-4bc2-bf9e-4c56425d3b8c",
   "metadata": {},
   "outputs": [
    {
     "data": {
      "text/plain": [
       "array([[ -10.42983652,   21.68425064,   93.05632423, ...,  -99.42351759,\n",
       "         -41.15065424,  113.11719747],\n",
       "       [  12.47508125,   11.65201123,  -47.62188868, ...,  -97.69430387,\n",
       "          13.81611278,    8.71189399],\n",
       "       [   7.69618811,   24.72954661,   43.78238349, ..., -100.87486091,\n",
       "         -38.8955983 ,   34.4883343 ],\n",
       "       ...,\n",
       "       [  13.87629202,   26.97679336,   86.95226218, ..., -102.18093317,\n",
       "         -63.05664522,  109.05468792],\n",
       "       [  -4.4227684 ,   19.5222766 ,   61.59642015, ...,  -85.61169692,\n",
       "           2.95671083,    4.26772866],\n",
       "       [   3.86605987,   15.22206782,  -54.96995473, ...,  -97.34426689,\n",
       "        -136.72256202,   37.2040866 ]])"
      ]
     },
     "execution_count": 6,
     "metadata": {},
     "output_type": "execute_result"
    }
   ],
   "source": [
    "X"
   ]
  },
  {
   "cell_type": "code",
   "execution_count": 7,
   "id": "763e5ae7-a5b6-4a8b-a696-6fbd41860677",
   "metadata": {},
   "outputs": [
    {
     "data": {
      "text/plain": [
       "array([[-1.69864257,  0.25314326,  1.13869653, ..., -0.22286562,\n",
       "        -0.47196937,  2.27252813],\n",
       "       [ 0.67201663, -1.49897152, -2.0985691 , ...,  0.15226832,\n",
       "         0.88583556, -0.21087511],\n",
       "       [ 0.17740114,  0.78499939,  0.00481211, ..., -0.53771862,\n",
       "        -0.41626433,  0.40224792],\n",
       "       ...,\n",
       "       [ 0.81704195,  1.17747749,  0.99823079, ..., -0.82105666,\n",
       "        -1.01309748,  2.17589655],\n",
       "       [-1.07691097, -0.1244421 ,  0.41474601, ...,  2.77345726,\n",
       "         0.61758348, -0.31658482],\n",
       "       [-0.21901717, -0.87546677, -2.26766168, ...,  0.228205  ,\n",
       "        -2.83281419,  0.46684529]])"
      ]
     },
     "execution_count": 7,
     "metadata": {},
     "output_type": "execute_result"
    }
   ],
   "source": [
    "X_mean = np.mean(X, axis=0)\n",
    "X_std = np.std(X, axis=0)\n",
    "X = (X - X_mean) / X_std  # Standardization\n",
    "X"
   ]
  },
  {
   "cell_type": "code",
   "execution_count": 8,
   "id": "2376f382-25a6-499b-b221-6b6bc5efeec2",
   "metadata": {},
   "outputs": [
    {
     "data": {
      "text/plain": [
       "array([[ 1.        , -1.69864257,  0.25314326, ..., -0.22286562,\n",
       "        -0.47196937,  2.27252813],\n",
       "       [ 1.        ,  0.67201663, -1.49897152, ...,  0.15226832,\n",
       "         0.88583556, -0.21087511],\n",
       "       [ 1.        ,  0.17740114,  0.78499939, ..., -0.53771862,\n",
       "        -0.41626433,  0.40224792],\n",
       "       ...,\n",
       "       [ 1.        ,  0.81704195,  1.17747749, ..., -0.82105666,\n",
       "        -1.01309748,  2.17589655],\n",
       "       [ 1.        , -1.07691097, -0.1244421 , ...,  2.77345726,\n",
       "         0.61758348, -0.31658482],\n",
       "       [ 1.        , -0.21901717, -0.87546677, ...,  0.228205  ,\n",
       "        -2.83281419,  0.46684529]])"
      ]
     },
     "execution_count": 8,
     "metadata": {},
     "output_type": "execute_result"
    }
   ],
   "source": [
    "# Add a column of ones to X\n",
    "X = np.hstack((np.ones((X.shape[0], 1)), X))\n",
    "X"
   ]
  },
  {
   "cell_type": "code",
   "execution_count": 9,
   "id": "4d570442-703b-4184-9fa5-cb14f3c7606b",
   "metadata": {},
   "outputs": [],
   "source": [
    "# Hyperparameters\n",
    "learning_rate = 0.1    \n",
    "epsilon = 0.00000001  # Convergence threshold\n",
    "max_iterations = 10000000  # Max iterations to prevent infinite loop in case of non-convergence\n",
    "m = len(y)\n",
    "w = np.random.randn(X.shape[1]) * 0.01\n",
    "prev_cost = 0\n"
   ]
  },
  {
   "cell_type": "code",
   "execution_count": 10,
   "id": "345799ff-5794-4d42-8d2b-834c14654d71",
   "metadata": {
    "scrolled": true
   },
   "outputs": [
    {
     "name": "stdout",
     "output_type": "stream",
     "text": [
      "Convergence reached at iteration 153, Cost: 58027.400244824705\n"
     ]
    }
   ],
   "source": [
    " for i in range(max_iterations):\n",
    "        # Predicted values\n",
    "        y_pred = X.dot(w)\n",
    "        \n",
    "        # Compute cost (Mean Squared Error)\n",
    "        cost = (1 / (2 * m)) * np.sum((y_pred - y) ** 2)\n",
    "        \n",
    "        # Check for convergence: if the change in cost is smaller than epsilon, stop\n",
    "        if abs( prev_cost - cost ) < epsilon:\n",
    "            print(f\"Convergence reached at iteration {i}, Cost: {cost}\")\n",
    "            break\n",
    "        \n",
    "        # Compute the gradient (derivative of cost function)\n",
    "        gradient = (1 / m) * X.T.dot(y_pred - y)\n",
    "        \n",
    "        # Update weights using gradient descent rule\n",
    "        w -= learning_rate * gradient\n",
    "        \n",
    "        # Update the previous cost for the next iteration\n",
    "        prev_cost = cost\n",
    "     \n",
    "prediction_verification = X.dot(w)"
   ]
  },
  {
   "cell_type": "code",
   "execution_count": 11,
   "id": "58a55410-5d76-4c59-80b0-a275ee5e25a5",
   "metadata": {},
   "outputs": [
    {
     "data": {
      "text/plain": [
       "array([ 4843.77908261, -1070.69093969, -1075.54805419, ...,\n",
       "       -1506.93123512,  4423.66257295, -2882.71396342])"
      ]
     },
     "execution_count": 11,
     "metadata": {},
     "output_type": "execute_result"
    }
   ],
   "source": [
    "prediction_verification"
   ]
  },
  {
   "cell_type": "code",
   "execution_count": 12,
   "id": "0ab9507e-7496-4ad0-9168-b14ecc1db0cc",
   "metadata": {},
   "outputs": [
    {
     "data": {
      "text/plain": [
       "array([ 5235.69092808, -1221.44214589, -1102.75886179, ...,\n",
       "       -1703.21936555,  4551.70684165, -2800.86325604])"
      ]
     },
     "execution_count": 12,
     "metadata": {},
     "output_type": "execute_result"
    }
   ],
   "source": [
    "y"
   ]
  },
  {
   "cell_type": "code",
   "execution_count": 13,
   "id": "4e730e0a-d36a-4c54-9a24-3fc5c87746de",
   "metadata": {},
   "outputs": [
    {
     "data": {
      "text/plain": [
       "array([ 1.24697862e+03,  1.30449972e+02,  6.30916214e-01,  5.22752803e+02,\n",
       "        7.35341341e+02, -4.23493560e-01,  8.11285139e+02,  4.42198497e+02,\n",
       "       -1.00612151e+00,  6.47193307e+02,  2.25168294e+02,  7.86967238e-01,\n",
       "        2.90441311e-01,  7.62095330e+02,  6.62220159e+02, -1.41989535e+00,\n",
       "        5.27387198e+02,  3.16658418e+01,  4.52260720e+02,  4.12490588e+02,\n",
       "        6.94742072e+02,  9.67825971e+01,  1.15875967e+00,  1.05488158e+02,\n",
       "        4.92027074e+02,  8.04721146e-01])"
      ]
     },
     "execution_count": 13,
     "metadata": {},
     "output_type": "execute_result"
    }
   ],
   "source": [
    "w"
   ]
  },
  {
   "cell_type": "code",
   "execution_count": 14,
   "id": "7c3eba48-3d70-4c2e-b5b0-4db52c33a6a6",
   "metadata": {},
   "outputs": [
    {
     "data": {
      "text/plain": [
       "(26,)"
      ]
     },
     "execution_count": 14,
     "metadata": {},
     "output_type": "execute_result"
    }
   ],
   "source": [
    "w.shape"
   ]
  },
  {
   "cell_type": "code",
   "execution_count": 15,
   "id": "18f5dab2-1c85-4898-afd0-d30741fb7a02",
   "metadata": {},
   "outputs": [
    {
     "data": {
      "text/plain": [
       "array([[ -13.29664984,   26.94791326,   95.97781082, ...,  -93.08558458,\n",
       "         -10.31051873,  -47.57996745],\n",
       "       [  13.74047822,   26.6323546 ,   -1.05683434, ...,  -99.35181737,\n",
       "           7.80600033,   75.69153932],\n",
       "       [   5.75770087,    5.72928201,   -7.84631752, ..., -104.77186847,\n",
       "         -29.85123744,   71.92018423],\n",
       "       ...,\n",
       "       [  -5.85261615,   12.03721863,   44.8103347 , ..., -109.65445576,\n",
       "          18.41335887,   -6.97955382],\n",
       "       [  20.43179344,    3.02571363,  104.60594893, ...,  -99.04817113,\n",
       "         -58.06021961,    8.32577778],\n",
       "       [   4.48130396,   27.63513075,   45.58004581, ...,  -97.28312767,\n",
       "         -22.5433931 ,   -4.87210286]])"
      ]
     },
     "execution_count": 15,
     "metadata": {},
     "output_type": "execute_result"
    }
   ],
   "source": [
    "X1 = pd.read_csv(\"linear_regression_test.csv\")\n",
    "X1 = X1.iloc[:, 1:].values\n",
    "X1"
   ]
  },
  {
   "cell_type": "code",
   "execution_count": 16,
   "id": "02a231d2-241a-4673-b1b8-d4dd5b65c464",
   "metadata": {},
   "outputs": [
    {
     "data": {
      "text/plain": [
       "(12000, 25)"
      ]
     },
     "execution_count": 16,
     "metadata": {},
     "output_type": "execute_result"
    }
   ],
   "source": [
    "X1.shape"
   ]
  },
  {
   "cell_type": "code",
   "execution_count": 17,
   "id": "ceb28456-3819-4c18-8d86-446640812459",
   "metadata": {},
   "outputs": [
    {
     "data": {
      "text/plain": [
       "array([[ -13.29664984,   26.94791326,   95.97781082, ...,  -93.08558458,\n",
       "         -10.31051873,  -47.57996745],\n",
       "       [  13.74047822,   26.6323546 ,   -1.05683434, ...,  -99.35181737,\n",
       "           7.80600033,   75.69153932],\n",
       "       [   5.75770087,    5.72928201,   -7.84631752, ..., -104.77186847,\n",
       "         -29.85123744,   71.92018423],\n",
       "       ...,\n",
       "       [  -5.85261615,   12.03721863,   44.8103347 , ..., -109.65445576,\n",
       "          18.41335887,   -6.97955382],\n",
       "       [  20.43179344,    3.02571363,  104.60594893, ...,  -99.04817113,\n",
       "         -58.06021961,    8.32577778],\n",
       "       [   4.48130396,   27.63513075,   45.58004581, ...,  -97.28312767,\n",
       "         -22.5433931 ,   -4.87210286]])"
      ]
     },
     "execution_count": 17,
     "metadata": {},
     "output_type": "execute_result"
    }
   ],
   "source": [
    "X = (X1 - X_mean) / X_std   # Standardization\n",
    "X1"
   ]
  },
  {
   "cell_type": "code",
   "execution_count": 18,
   "id": "a42d10d9-c78f-4ce3-958e-140accb0d37b",
   "metadata": {},
   "outputs": [
    {
     "data": {
      "text/plain": [
       "array([[   1.        ,  -13.29664984,   26.94791326, ...,  -93.08558458,\n",
       "         -10.31051873,  -47.57996745],\n",
       "       [   1.        ,   13.74047822,   26.6323546 , ...,  -99.35181737,\n",
       "           7.80600033,   75.69153932],\n",
       "       [   1.        ,    5.75770087,    5.72928201, ..., -104.77186847,\n",
       "         -29.85123744,   71.92018423],\n",
       "       ...,\n",
       "       [   1.        ,   -5.85261615,   12.03721863, ..., -109.65445576,\n",
       "          18.41335887,   -6.97955382],\n",
       "       [   1.        ,   20.43179344,    3.02571363, ...,  -99.04817113,\n",
       "         -58.06021961,    8.32577778],\n",
       "       [   1.        ,    4.48130396,   27.63513075, ...,  -97.28312767,\n",
       "         -22.5433931 ,   -4.87210286]])"
      ]
     },
     "execution_count": 18,
     "metadata": {},
     "output_type": "execute_result"
    }
   ],
   "source": [
    "X1 = np.hstack((np.ones((X1.shape[0], 1)), X1))\n",
    "X1"
   ]
  },
  {
   "cell_type": "code",
   "execution_count": 19,
   "id": "1a12f604-bad3-4c83-9cb1-328c5576af62",
   "metadata": {},
   "outputs": [
    {
     "data": {
      "text/plain": [
       "array([-132718.70532631,  -37952.92277601, -139521.38633766, ...,\n",
       "        -71864.59228402, -234156.85457058, -193287.54471069])"
      ]
     },
     "execution_count": 19,
     "metadata": {},
     "output_type": "execute_result"
    }
   ],
   "source": [
    "Y1 = X1.dot(w)\n",
    "Y1"
   ]
  },
  {
   "cell_type": "code",
   "execution_count": 3,
   "id": "97a74c12-a61e-4749-8f31-0c7018a6783d",
   "metadata": {},
   "outputs": [],
   "source": [
    "#    !jupyter nbconvert --to script woking-model-on-multiple-regrssion.ipynb\n",
    "#to make a script "
   ]
  }
 ],
 "metadata": {
  "kernelspec": {
   "display_name": "Python 3 (ipykernel)",
   "language": "python",
   "name": "python3"
  },
  "language_info": {
   "codemirror_mode": {
    "name": "ipython",
    "version": 3
   },
   "file_extension": ".py",
   "mimetype": "text/x-python",
   "name": "python",
   "nbconvert_exporter": "python",
   "pygments_lexer": "ipython3",
   "version": "3.12.7"
  }
 },
 "nbformat": 4,
 "nbformat_minor": 5
}
